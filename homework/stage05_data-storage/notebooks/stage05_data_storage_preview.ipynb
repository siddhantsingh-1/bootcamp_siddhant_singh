{
 "cells": [
  {
   "cell_type": "markdown",
   "id": "tesla-data-storage",
   "metadata": {},
   "source": [
    "# Tesla Vehicle Data Storage and Processing\n",
    "This notebook demonstrates how to efficiently store and process Tesla vehicle data using CSV and Parquet formats, with environment-driven paths for better organization and reproducibility."
   ]
  },
  {
   "cell_type": "markdown",
   "id": "objectives",
   "metadata": {},
   "source": [
    "## Objectives:\n",
    "- Configure environment-driven paths for `data/raw/` and `data/processed/`\n",
    "- Save and load Tesla vehicle data in both CSV and Parquet formats\n",
    "- Implement utility functions for data I/O operations\n",
    "- Validate data integrity across different storage formats"
   ]
  },
  {
   "cell_type": "code",
   "execution_count": 1,
   "id": "imports",
   "metadata": {},
   "outputs": [],
   "source": [
    "import os\n",
    "import pathlib\n",
    "import numpy as np\n",
    "import pandas as pd\n",
    "from dotenv import load_dotenv\n",
    "import datetime as dt"
   ]
  },
  {
   "cell_type": "code",
   "execution_count": 2,
   "id": "environment-setup",
   "metadata": {},
   "outputs": [
    {
     "name": "stdout",
     "output_type": "stream",
     "text": [
      "Raw data directory: None\n",
      "Processed data directory: None\n"
     ]
    }
   ],
   "source": [
    "# Load environment variables\n",
    "dotenv_path = \"../.env\"\n",
    "load_dotenv(dotenv_path)\n",
    "VEHICLE_DATA_RAW = os.getenv(\"DATA_DIR_RAW\")\n",
    "VEHICLE_DATA_PROCESSED = os.getenv(\"DATA_DIR_PROCESSED\")\n",
    "print(f\"Raw data directory: {VEHICLE_DATA_RAW}\")\n",
    "print(f\"Processed data directory: {VEHICLE_DATA_PROCESSED}\")"
   ]
  },
  {
   "cell_type": "code",
   "execution_count": 5,
   "id": "sample-data",
   "metadata": {},
   "outputs": [
    {
     "ename": "TypeError",
     "evalue": "expected str, bytes or os.PathLike object, not NoneType",
     "output_type": "error",
     "traceback": [
      "\u001b[31m---------------------------------------------------------------------------\u001b[39m",
      "\u001b[31mTypeError\u001b[39m                                 Traceback (most recent call last)",
      "\u001b[36mCell\u001b[39m\u001b[36m \u001b[39m\u001b[32mIn[5]\u001b[39m\u001b[32m, line 12\u001b[39m\n\u001b[32m      2\u001b[39m tesla_vehicles = pd.DataFrame({\n\u001b[32m      3\u001b[39m     \u001b[33m\"\u001b[39m\u001b[33mmodel\u001b[39m\u001b[33m\"\u001b[39m: [\u001b[33m\"\u001b[39m\u001b[33mModel 3\u001b[39m\u001b[33m\"\u001b[39m, \u001b[33m\"\u001b[39m\u001b[33mModel S\u001b[39m\u001b[33m\"\u001b[39m, \u001b[33m\"\u001b[39m\u001b[33mModel X\u001b[39m\u001b[33m\"\u001b[39m, \u001b[33m\"\u001b[39m\u001b[33mModel Y\u001b[39m\u001b[33m\"\u001b[39m, \u001b[33m\"\u001b[39m\u001b[33mCybertruck\u001b[39m\u001b[33m\"\u001b[39m],\n\u001b[32m      4\u001b[39m     \u001b[33m\"\u001b[39m\u001b[33mproduction_year\u001b[39m\u001b[33m\"\u001b[39m: [\u001b[32m2022\u001b[39m, \u001b[32m2023\u001b[39m, \u001b[32m2023\u001b[39m, \u001b[32m2023\u001b[39m, \u001b[32m2024\u001b[39m],\n\u001b[32m   (...)\u001b[39m\u001b[32m      8\u001b[39m     \u001b[33m\"\u001b[39m\u001b[33mprice_usd\u001b[39m\u001b[33m\"\u001b[39m: [\u001b[32m42990\u001b[39m, \u001b[32m88490\u001b[39m, \u001b[32m98490\u001b[39m, \u001b[32m47490\u001b[39m, \u001b[32m79990\u001b[39m]\n\u001b[32m      9\u001b[39m })\n\u001b[32m     11\u001b[39m \u001b[38;5;66;03m# Define file paths\u001b[39;00m\n\u001b[32m---> \u001b[39m\u001b[32m12\u001b[39m vehicle_metrics_csv = \u001b[43mos\u001b[49m\u001b[43m.\u001b[49m\u001b[43mpath\u001b[49m\u001b[43m.\u001b[49m\u001b[43mjoin\u001b[49m\u001b[43m(\u001b[49m\u001b[43mVEHICLE_DATA_RAW\u001b[49m\u001b[43m,\u001b[49m\u001b[43m \u001b[49m\u001b[33;43m\"\u001b[39;49m\u001b[33;43mtesla_vehicles.csv\u001b[39;49m\u001b[33;43m\"\u001b[39;49m\u001b[43m)\u001b[49m\n\u001b[32m     13\u001b[39m vehicle_metrics_parquet = os.path.join(VEHICLE_DATA_PROCESSED, \u001b[33m\"\u001b[39m\u001b[33mtesla_vehicles.parquet\u001b[39m\u001b[33m\"\u001b[39m)\n\u001b[32m     15\u001b[39m \u001b[38;5;66;03m# Display sample data\u001b[39;00m\n",
      "\u001b[36mFile \u001b[39m\u001b[32m<frozen posixpath>:76\u001b[39m, in \u001b[36mjoin\u001b[39m\u001b[34m(a, *p)\u001b[39m\n",
      "\u001b[31mTypeError\u001b[39m: expected str, bytes or os.PathLike object, not NoneType"
     ]
    }
   ],
   "source": [
    "# Create sample Tesla vehicle data\n",
    "tesla_vehicles = pd.DataFrame({\n",
    "    \"model\": [\"Model 3\", \"Model S\", \"Model X\", \"Model Y\", \"Cybertruck\"],\n",
    "    \"production_year\": [2022, 2023, 2023, 2023, 2024],\n",
    "    \"battery_type\": [\"LFP\", \"NCA\", \"NCA\", \"LFP\", \"4680\"],\n",
    "    \"range_miles\": [272, 405, 348, 330, 340],\n",
    "    \"acceleration_0_60\": [5.8, 3.1, 3.8, 4.8, 2.9],\n",
    "    \"price_usd\": [42990, 88490, 98490, 47490, 79990]\n",
    "})\n",
    "\n",
    "# Define file paths\n",
    "vehicle_metrics_csv = os.path.join(VEHICLE_DATA_RAW, \"tesla_vehicles.csv\")\n",
    "vehicle_metrics_parquet = os.path.join(VEHICLE_DATA_PROCESSED, \"tesla_vehicles.parquet\")\n",
    "\n",
    "# Display sample data\n",
    "print(\"Sample Tesla Vehicle Data:\")\n",
    "tesla_vehicles"
   ]
  },
  {
   "cell_type": "code",
   "execution_count": 4,
   "id": "save-data",
   "metadata": {},
   "outputs": [
    {
     "ename": "NameError",
     "evalue": "name 'vehicle_metrics_csv' is not defined",
     "output_type": "error",
     "traceback": [
      "\u001b[31m---------------------------------------------------------------------------\u001b[39m",
      "\u001b[31mNameError\u001b[39m                                 Traceback (most recent call last)",
      "\u001b[36mCell\u001b[39m\u001b[36m \u001b[39m\u001b[32mIn[4]\u001b[39m\u001b[32m, line 22\u001b[39m\n\u001b[32m     19\u001b[39m         \u001b[38;5;28;01mraise\u001b[39;00m \u001b[38;5;167;01mValueError\u001b[39;00m(\u001b[33m\"\u001b[39m\u001b[33mUnsupported file type. Use .csv or .parquet\u001b[39m\u001b[33m\"\u001b[39m)\n\u001b[32m     21\u001b[39m \u001b[38;5;66;03m# Save the data\u001b[39;00m\n\u001b[32m---> \u001b[39m\u001b[32m22\u001b[39m save_vehicle_data(tesla_vehicles, \u001b[43mvehicle_metrics_csv\u001b[49m)\n\u001b[32m     23\u001b[39m save_vehicle_data(tesla_vehicles, vehicle_metrics_parquet, engine=\u001b[33m\"\u001b[39m\u001b[33mfastparquet\u001b[39m\u001b[33m\"\u001b[39m)\n\u001b[32m     25\u001b[39m \u001b[38;5;28mprint\u001b[39m(\u001b[33mf\u001b[39m\u001b[33m\"\u001b[39m\u001b[33mData saved to:\u001b[39m\u001b[38;5;130;01m\\n\u001b[39;00m\u001b[33m- \u001b[39m\u001b[38;5;132;01m{\u001b[39;00mvehicle_metrics_csv\u001b[38;5;132;01m}\u001b[39;00m\u001b[38;5;130;01m\\n\u001b[39;00m\u001b[33m- \u001b[39m\u001b[38;5;132;01m{\u001b[39;00mvehicle_metrics_parquet\u001b[38;5;132;01m}\u001b[39;00m\u001b[33m\"\u001b[39m)\n",
      "\u001b[31mNameError\u001b[39m: name 'vehicle_metrics_csv' is not defined"
     ]
    }
   ],
   "source": [
    "# Save data to CSV and Parquet\n",
    "def save_vehicle_data(df, path, **kwargs):\n",
    "    \"\"\"Save vehicle data to either CSV or Parquet format.\n",
    "    \n",
    "    Args:\n",
    "        df: DataFrame containing vehicle data\n",
    "        path: Output file path (must end with .csv or .parquet)\n",
    "        **kwargs: Additional arguments passed to pandas to_csv or to_parquet\n",
    "    \"\"\"\n",
    "    os.makedirs(os.path.dirname(path), exist_ok=True)\n",
    "    if path.endswith(\".csv\"):\n",
    "        df.to_csv(path, index=False, **kwargs)\n",
    "    elif path.endswith(\".parquet\"):\n",
    "        try:\n",
    "            df.to_parquet(path, index=False, **kwargs)\n",
    "        except ImportError:\n",
    "            raise RuntimeError(\"Missing Parquet engine. Install pyarrow or fastparquet.\")\n",
    "    else:\n",
    "        raise ValueError(\"Unsupported file type. Use .csv or .parquet\")\n",
    "\n",
    "# Save the data\n",
    "save_vehicle_data(tesla_vehicles, vehicle_metrics_csv)\n",
    "save_vehicle_data(tesla_vehicles, vehicle_metrics_parquet, engine=\"fastparquet\")\n",
    "\n",
    "print(f\"Data saved to:\\n- {vehicle_metrics_csv}\\n- {vehicle_metrics_parquet}\")"
   ]
  },
  {
   "cell_type": "code",
   "execution_count": null,
   "id": "load-validate",
   "metadata": {},
   "outputs": [],
   "source": [
    "# Load and validate the saved data\n",
    "def load_vehicle_data(path, **kwargs):\n",
    "    \"\"\"Load vehicle data from either CSV or Parquet format.\n",
    "    \n",
    "    Args:\n",
    "        path: Input file path (must end with .csv or .parquet)\n",
    "        **kwargs: Additional arguments passed to pandas read_csv or read_parquet\n",
    "        \n",
    "    Returns:\n",
    "        DataFrame containing the loaded vehicle data\n",
    "    \"\"\"\n",
    "    if path.endswith(\".csv\"):\n",
    "        return pd.read_csv(path, **kwargs)\n",
    "    elif path.endswith(\".parquet\"):\n",
    "        return pd.read_parquet(path, **kwargs)\n",
    "    else:\n",
    "        raise ValueError(\"Unsupported file type. Use .csv or .parquet\")\n",
    "\n",
    "def validate_vehicle_data(df1, df2, key_cols):\n",
    "    \"\"\"Validate that two DataFrames have the same shape and column data types.\n",
    "    \n",
    "    Args:\n",
    "        df1: First DataFrame for comparison\n",
    "        df2: Second DataFrame for comparison\n",
    "        key_cols: List of column names to check data types for\n",
    "        \n",
    "    Returns:\n",
    "        Dictionary with validation results\n",
    "    \"\"\"\n",
    "    same_shape = df1.shape == df2.shape\n",
    "    same_dtypes = all(df1[col].dtype == df2[col].dtype for col in key_cols)\n",
    "    return {\"same_shape\": same_shape, \"same_dtypes\": same_dtypes}\n",
    "\n",
    "# Load the data\n",
    "tesla_csv_data = load_vehicle_data(vehicle_metrics_csv)\n",
    "tesla_parquet_data = load_vehicle_data(vehicle_metrics_parquet, engine=\"fastparquet\")\n",
    "\n",
    "# Validate the data\n",
    "print(\"CSV data shape:\", tesla_csv_data.shape)\n",
    "print(\"Parquet data shape:\", tesla_parquet_data.shape)\n",
    "\n",
    "# Check data integrity\n",
    "validation_results = validate_vehicle_data(\n",
    "    tesla_csv_data, \n",
    "    tesla_parquet_data, \n",
    "    key_cols=[\"model\", \"production_year\", \"range_miles\"]\n",
    ")\n",
    "\n",
    "print(\"\\nData Validation Results:\")\n",
    "for key, value in validation_results.items():\n",
    "    print(f\"- {key}: {value}\")\n",
    "\n",
    "# Display first few rows from both formats\n",
    "print(\"\\nFirst 3 rows from CSV data:\")\n",
    "tesla_csv_data.head(3)"
   ]
  },
  {
   "cell_type": "code",
   "execution_count": null,
   "id": "data-analysis",
   "metadata": {},
   "outputs": [],
   "source": [
    "# Example analysis with the loaded data\n",
    "print(\"Tesla Vehicle Analysis\")\n",
    "print(\"=\" * 50)\n",
    "print(f\"Total models: {len(tesla_csv_data)}\")\n",
    "print(f\"Average price: ${tesla_csv_data['price_usd'].mean():,.2f}\")\n",
    "print(f\"Average range: {tesla_csv_data['range_miles'].mean():.1f} miles\")\n",
    "print(f\"Fastest 0-60 mph: {tesla_csv_data['acceleration_0_60'].min()} seconds\")\n",
    "\n",
    "# Group by battery type\n",
    "battery_stats = tesla_csv_data.groupby('battery_type').agg({\n",
    "    'model': 'count',\n",
    "    'range_miles': 'mean',\n",
    "    'price_usd': 'mean'\n",
    "}).round(2)\n",
    "\n",
    "print(\"\\nBattery Type Analysis:\")\n",
    "battery_stats"
   ]
  }
 ],
 "metadata": {
  "kernelspec": {
   "display_name": "fe-course",
   "language": "python",
   "name": "python3"
  },
  "language_info": {
   "codemirror_mode": {
    "name": "ipython",
    "version": 3
   },
   "file_extension": ".py",
   "mimetype": "text/x-python",
   "name": "python",
   "nbconvert_exporter": "python",
   "pygments_lexer": "ipython3",
   "version": "3.11.13"
  }
 },
 "nbformat": 4,
 "nbformat_minor": 5
}
