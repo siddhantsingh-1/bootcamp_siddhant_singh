{
 "cells": [
  {
   "cell_type": "code",
   "execution_count": 4,
   "id": "a4882730",
   "metadata": {},
   "outputs": [
    {
     "data": {
      "text/plain": [
       "'/Users/siddhantsingh/Projects/FRE Bootcamp 4/bootcamp_siddhant_singh/homework/stage02_tooling-setup_slides-outline/notebooks'"
      ]
     },
     "execution_count": 4,
     "metadata": {},
     "output_type": "execute_result"
    }
   ],
   "source": [
    "import os\n",
    "os.getcwd()"
   ]
  },
  {
   "cell_type": "code",
   "execution_count": 5,
   "id": "4a06bf6c",
   "metadata": {},
   "outputs": [
    {
     "name": "stdout",
     "output_type": "stream",
     "text": [
      "/Users/siddhantsingh/Projects/FRE Bootcamp 4/bootcamp_siddhant_singh/homework/stage02_tooling-setup_slides-outline\n"
     ]
    }
   ],
   "source": [
    "import os, sys\n",
    "os.chdir(\"..\")\n",
    "print(os.getcwd())\n"
   ]
  },
  {
   "cell_type": "markdown",
   "id": "0a2844a8",
   "metadata": {},
   "source": [
    "# Environment & Config Check"
   ]
  },
  {
   "cell_type": "code",
   "execution_count": 6,
   "id": "f2c0cabe",
   "metadata": {},
   "outputs": [
    {
     "name": "stdout",
     "output_type": "stream",
     "text": [
      "API_KEY present: True\n"
     ]
    }
   ],
   "source": [
    "from src.config import load_env, get_key\n",
    "import numpy as np\n",
    "\n",
    "load_env()\n",
    "print(\"API_KEY present:\", get_key(\"API_KEY\") is not None)"
   ]
  },
  {
   "cell_type": "code",
   "execution_count": 7,
   "id": "4a5f0ae0",
   "metadata": {},
   "outputs": [
    {
     "name": "stdout",
     "output_type": "stream",
     "text": [
      "Array + 5 = [6 7 8]\n"
     ]
    }
   ],
   "source": [
    "arr = np.array([1, 2, 3])\n",
    "print(\"Array + 5 =\", arr + 5)"
   ]
  },
  {
   "cell_type": "code",
   "execution_count": null,
   "id": "0b585e6b",
   "metadata": {},
   "outputs": [],
   "source": []
  }
 ],
 "metadata": {
  "kernelspec": {
   "display_name": "fe-course",
   "language": "python",
   "name": "python3"
  },
  "language_info": {
   "codemirror_mode": {
    "name": "ipython",
    "version": 3
   },
   "file_extension": ".py",
   "mimetype": "text/x-python",
   "name": "python",
   "nbconvert_exporter": "python",
   "pygments_lexer": "ipython3",
   "version": "3.11.13"
  }
 },
 "nbformat": 4,
 "nbformat_minor": 5
}
