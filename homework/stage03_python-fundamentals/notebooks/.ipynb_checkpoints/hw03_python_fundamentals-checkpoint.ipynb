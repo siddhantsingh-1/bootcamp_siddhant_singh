{
 "cells": [
  {
   "cell_type": "code",
   "execution_count": 3,
   "id": "e6c959fd-4235-4e54-96e2-0063979ada53",
   "metadata": {},
   "outputs": [
    {
     "name": "stdout",
     "output_type": "stream",
     "text": [
      "[1 2 3 4 5]\n"
     ]
    }
   ],
   "source": [
    "#Step 1 Create array and elementwise operations\n",
    "import numpy as np\n",
    "\n",
    "\n",
    "arr = np.array ([1, 2, 3, 4, 5])\n",
    "print (arr)\n"
   ]
  },
  {
   "cell_type": "code",
   "execution_count": 4,
   "id": "0bf9e032-477e-4c8c-8700-e213feed1ad5",
   "metadata": {},
   "outputs": [
    {
     "name": "stdout",
     "output_type": "stream",
     "text": [
      "Array addition: [ 6  7  8  9 10]\n",
      "Array Multiplication: [ 2  4  6  8 10]\n"
     ]
    }
   ],
   "source": [
    "#addition and mulitplication\n",
    "arr_addition = arr + 5\n",
    "print (\"Array addition:\", arr_addition)\n",
    "\n",
    "arr_multiplication = arr*2\n",
    "print (\"Array Multiplication:\", arr_multiplication)"
   ]
  },
  {
   "cell_type": "code",
   "execution_count": 6,
   "id": "0c9ff9c9-b40e-455f-92e2-369f8c13ec8e",
   "metadata": {},
   "outputs": [
    {
     "name": "stdout",
     "output_type": "stream",
     "text": [
      "Array square: [ 1  4  9 16 25]\n",
      "Array multiplied with another array: [ 6 14 24 36 50]\n"
     ]
    }
   ],
   "source": [
    "#Square and array operations with another array\n",
    "arr_square = arr ** 2\n",
    "print (\"Array square:\", arr_square)\n",
    "\n",
    "arr_2 = np.array ([6,7,8,9,10])\n",
    "arr_w_arr2 = arr*arr_2\n",
    "print (\"Array multiplied with another array:\", arr_w_arr2)\n"
   ]
  },
  {
   "cell_type": "code",
   "execution_count": 12,
   "id": "811b3ceb-9f5b-43ca-bea9-420e8b7becc0",
   "metadata": {},
   "outputs": [
    {
     "name": "stdout",
     "output_type": "stream",
     "text": [
      "Loop execution: [27, 29, 31, 33, 35]\n",
      "Vector Execution: [27 29 31 33 35]\n"
     ]
    }
   ],
   "source": [
    "# compare loop vs vectorized execution\n",
    "# Loop execution\n",
    "arr_3 = np.array ([11, 12, 13, 14, 15])\n",
    "arr_4 = np.array ([16, 17, 18, 19, 20])\n",
    "loop = []\n",
    "for i in range (len (arr)):\n",
    "    loop.append (int(arr_3[i] + arr_4[i]))\n",
    "\n",
    "print (\"Loop execution:\", loop)\n",
    "\n",
    "#vector Execution:\n",
    "vector_ex = arr_3 + arr_4\n",
    "print (\"Vector Execution:\", vector_ex)"
   ]
  },
  {
   "cell_type": "code",
   "execution_count": 4,
   "id": "b3e584fb-0b1e-43a0-9b7e-1b00a54e25df",
   "metadata": {},
   "outputs": [
    {
     "name": "stdout",
     "output_type": "stream",
     "text": [
      "Rows\n",
      "  category  value        date\n",
      "0        A     10  2025-08-01\n",
      "1        B     15  2025-08-02\n",
      "2        A     12  2025-08-03\n",
      "3        B     18  2025-08-04\n",
      "4        C     25  2025-08-05\n",
      "Information\n",
      "<class 'pandas.core.frame.DataFrame'>\n",
      "RangeIndex: 10 entries, 0 to 9\n",
      "Data columns (total 3 columns):\n",
      " #   Column    Non-Null Count  Dtype \n",
      "---  ------    --------------  ----- \n",
      " 0   category  10 non-null     object\n",
      " 1   value     10 non-null     int64 \n",
      " 2   date      10 non-null     object\n",
      "dtypes: int64(1), object(2)\n",
      "memory usage: 372.0+ bytes\n",
      "None\n"
     ]
    }
   ],
   "source": [
    "# Step 2 data loading \n",
    "import pandas as pd\n",
    "df = pd.read_csv (r\"C:\\Users\\dhair\\bootcamp_dhairya_gouchwal\\homework\\homework3\\data\\starter_data.csv\")\n",
    "#head\n",
    "print (\"Rows\")\n",
    "print (df.head())\n",
    "#info\n",
    "print (\"Information\")\n",
    "print (df.info())\n"
   ]
  },
  {
   "cell_type": "code",
   "execution_count": 5,
   "id": "3aff5294-57df-44ea-97a8-9157e9425456",
   "metadata": {},
   "outputs": [
    {
     "name": "stdout",
     "output_type": "stream",
     "text": [
      "           value\n",
      "count  10.000000\n",
      "mean   17.600000\n",
      "std     7.381659\n",
      "min    10.000000\n",
      "25%    12.250000\n",
      "50%    14.500000\n",
      "75%    23.250000\n",
      "max    30.000000\n"
     ]
    }
   ],
   "source": [
    "#Step 3 \n",
    "# Describe\n",
    "print (df.describe())\n"
   ]
  },
  {
   "cell_type": "code",
   "execution_count": 6,
   "id": "c7ea3cec-bc5b-4dd8-afab-a3bf4c79713b",
   "metadata": {},
   "outputs": [
    {
     "name": "stdout",
     "output_type": "stream",
     "text": [
      "          value                                      date\n",
      "category                                                 \n",
      "A            46  2025-08-012025-08-032025-08-072025-08-10\n",
      "B            47            2025-08-022025-08-042025-08-08\n",
      "C            83            2025-08-052025-08-062025-08-09\n"
     ]
    }
   ],
   "source": [
    "#step 3 groupby\n",
    "print (df.groupby(\"category\").sum())\n"
   ]
  },
  {
   "cell_type": "code",
   "execution_count": 7,
   "id": "62df511c-b793-4273-8bac-941189d15f77",
   "metadata": {},
   "outputs": [
    {
     "name": "stdout",
     "output_type": "stream",
     "text": [
      "          sum       mean\n",
      "category                \n",
      "A          46  11.500000\n",
      "B          47  15.666667\n",
      "C          83  27.666667\n"
     ]
    }
   ],
   "source": [
    "print (df.groupby(\"category\")[\"value\"].agg([\"sum\" , \"mean\"]))"
   ]
  },
  {
   "cell_type": "code",
   "execution_count": 8,
   "id": "e8b59a0a-09fb-4b51-8391-f81187038323",
   "metadata": {},
   "outputs": [],
   "source": [
    "#step 4\n",
    "summary = df.describe()\n",
    "summary.to_csv(r\"C:\\Users\\dhair\\bootcamp_dhairya_gouchwal\\homework\\homework3\\data\\processed\\summary.csv\")\n"
   ]
  },
  {
   "cell_type": "code",
   "execution_count": 9,
   "id": "ce510cc0-7f47-4293-8ee3-5c74751d5cba",
   "metadata": {},
   "outputs": [],
   "source": [
    "summary_grouped = df.groupby(\"category\")[\"value\"].agg([\"sum\" , \"mean\"])\n",
    "summary_grouped.to_csv(r\"C:\\Users\\dhair\\bootcamp_dhairya_gouchwal\\homework\\homework3\\data\\processed\\summary_grouped.csv\")"
   ]
  },
  {
   "cell_type": "code",
   "execution_count": 10,
   "id": "d208e3af-4390-41a7-91a1-b46ea97af837",
   "metadata": {},
   "outputs": [],
   "source": [
    "#bonus\n",
    "import matplotlib.pyplot as plt\n"
   ]
  },
  {
   "cell_type": "code",
   "execution_count": 13,
   "id": "275005d8-18fd-41e9-b946-e970235658cb",
   "metadata": {},
   "outputs": [],
   "source": [
    "df.groupby(\"category\").sum().plot(kind=\"bar\")\n",
    "plt.title(\"Sum of each Category\")\n",
    "plt.ylabel(\"Sum\")\n",
    "plt.savefig (r\"C:\\Users\\dhair\\bootcamp_dhairya_gouchwal\\homework\\homework3\\data\\processed\\bonus_plot.png\")\n",
    "plt.close()"
   ]
  },
  {
   "cell_type": "code",
   "execution_count": 14,
   "id": "5a66750a-c239-4a2c-a5cd-301ee782ddf0",
   "metadata": {},
   "outputs": [
    {
     "name": "stdout",
     "output_type": "stream",
     "text": [
      "           value\n",
      "count  10.000000\n",
      "mean   17.600000\n",
      "std     7.381659\n",
      "min    10.000000\n",
      "25%    12.250000\n",
      "50%    14.500000\n",
      "75%    23.250000\n",
      "max    30.000000\n",
      "          value                                      date\n",
      "category                                                 \n",
      "A            46  2025-08-012025-08-032025-08-072025-08-10\n",
      "B            47            2025-08-022025-08-042025-08-08\n",
      "C            83            2025-08-052025-08-062025-08-09\n"
     ]
    }
   ],
   "source": [
    "#Step 5\n",
    "# reusable function \n",
    "def utility_summary_function (df):\n",
    "    summary = df.describe()\n",
    "    summary_grouped = df.groupby(\"category\").sum()\n",
    "    return summary, summary_grouped\n",
    "\n",
    "summary, summary_grouped = utility_summary_function(df)\n",
    "print (summary)\n",
    "print (summary_grouped)"
   ]
  },
  {
   "cell_type": "code",
   "execution_count": null,
   "id": "67721e9d-185f-4feb-90fb-e0c12597b22c",
   "metadata": {},
   "outputs": [],
   "source": []
  }
 ],
 "metadata": {
  "kernelspec": {
   "display_name": "Python 3 (ipykernel)",
   "language": "python",
   "name": "python3"
  },
  "language_info": {
   "codemirror_mode": {
    "name": "ipython",
    "version": 3
   },
   "file_extension": ".py",
   "mimetype": "text/x-python",
   "name": "python",
   "nbconvert_exporter": "python",
   "pygments_lexer": "ipython3",
   "version": "3.11.13"
  }
 },
 "nbformat": 4,
 "nbformat_minor": 5
}
