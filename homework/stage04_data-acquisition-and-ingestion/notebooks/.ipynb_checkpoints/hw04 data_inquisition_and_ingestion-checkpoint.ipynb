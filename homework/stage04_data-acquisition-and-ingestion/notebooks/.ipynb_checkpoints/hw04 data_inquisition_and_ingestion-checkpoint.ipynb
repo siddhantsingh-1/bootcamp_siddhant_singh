{
 "cells": [
  {
   "cell_type": "code",
   "execution_count": 6,
   "id": "7779a4c9-9ff6-4dda-89d8-18961c26974d",
   "metadata": {},
   "outputs": [],
   "source": [
    "# Step 1: API Pull, using yahoofinance as recommended in HW helper\n",
    "import pandas as pd\n",
    "import numpy as np \n",
    "import yfinance as yf\n",
    "import os\n",
    "from dotenv import load_dotenv\n",
    "import requests\n",
    "from bs4 import BeautifulSoup\n"
   ]
  },
  {
   "cell_type": "code",
   "execution_count": 7,
   "id": "b901c268-7f29-4831-9d5d-d65b2b188690",
   "metadata": {},
   "outputs": [
    {
     "name": "stderr",
     "output_type": "stream",
     "text": [
      "C:\\Users\\dhair\\AppData\\Local\\Temp\\ipykernel_45588\\1533318148.py:2: FutureWarning: YF.download() has changed argument auto_adjust default to True\n",
      "  df_API = yf.download (Symbol, start = \"2025-03-01\", end = \"2025-04-01\")\n",
      "[*********************100%***********************]  1 of 1 completed"
     ]
    },
    {
     "name": "stdout",
     "output_type": "stream",
     "text": [
      "<class 'pandas.core.frame.DataFrame'>\n",
      "RangeIndex: 21 entries, 0 to 20\n",
      "Data columns (total 6 columns):\n",
      " #   Column          Non-Null Count  Dtype         \n",
      "---  ------          --------------  -----         \n",
      " 0   (Date, )        21 non-null     datetime64[ns]\n",
      " 1   (Close, AAPL)   21 non-null     float64       \n",
      " 2   (High, AAPL)    21 non-null     float64       \n",
      " 3   (Low, AAPL)     21 non-null     float64       \n",
      " 4   (Open, AAPL)    21 non-null     float64       \n",
      " 5   (Volume, AAPL)  21 non-null     int64         \n",
      "dtypes: datetime64[ns](1), float64(4), int64(1)\n",
      "memory usage: 1.1 KB\n",
      "None\n",
      "Price        Date       Close        High         Low        Open    Volume\n",
      "Ticker                   AAPL        AAPL        AAPL        AAPL      AAPL\n",
      "0      2025-03-03  237.448776  243.434125  235.533466  241.199590  47184000\n",
      "1      2025-03-04  235.353912  239.483818  234.106965  237.129580  53798100\n",
      "2      2025-03-05  235.164383  235.972403  228.670269  234.845157  47227600\n",
      "3      2025-03-06  234.755386  237.279208  232.590687  233.867560  45170400\n",
      "4      2025-03-07  238.486252  240.780624  234.186763  234.535915  46273600\n"
     ]
    },
    {
     "name": "stderr",
     "output_type": "stream",
     "text": [
      "\n"
     ]
    }
   ],
   "source": [
    "Symbol = \"AAPL\"\n",
    "df_API = yf.download (Symbol, start = \"2025-03-01\", end = \"2025-04-01\")\n",
    "# Make a date column \n",
    "df_API.reset_index(inplace=True)\n",
    "#Validate\n",
    "print (df_API.info())\n",
    "print (df_API.head())\n"
   ]
  },
  {
   "cell_type": "code",
   "execution_count": 8,
   "id": "7352816d-10ee-4084-ae68-5354a2580184",
   "metadata": {},
   "outputs": [],
   "source": [
    "#save \n",
    "df_API.to_csv(r\"C:\\Users\\dhair\\bootcamp_dhairya_gouchwal\\homework\\homework4\\data\\raw\\AAPL.csv\")"
   ]
  },
  {
   "cell_type": "code",
   "execution_count": 14,
   "id": "72a7d6c7-b700-43c8-a533-ad04c2073fef",
   "metadata": {},
   "outputs": [
    {
     "name": "stdout",
     "output_type": "stream",
     "text": [
      "Collecting lxml\n",
      "  Downloading lxml-6.0.0-cp311-cp311-win_amd64.whl.metadata (6.8 kB)\n",
      "Downloading lxml-6.0.0-cp311-cp311-win_amd64.whl (4.0 MB)\n",
      "   ---------------------------------------- 0.0/4.0 MB ? eta -:--:--\n",
      "   ---------------------------------------- 4.0/4.0 MB 29.9 MB/s eta 0:00:00\n",
      "Installing collected packages: lxml\n",
      "Successfully installed lxml-6.0.0\n",
      "Note: you may need to restart the kernel to use updated packages.\n"
     ]
    }
   ],
   "source": [
    "pip install lxml\n"
   ]
  },
  {
   "cell_type": "code",
   "execution_count": 17,
   "id": "cd0a76b5-55bb-45ee-a8d0-256b2e4f8283",
   "metadata": {},
   "outputs": [
    {
     "name": "stdout",
     "output_type": "stream",
     "text": [
      "  Symbol             Security             GICS Sector  \\\n",
      "0    MMM                   3M             Industrials   \n",
      "1    AOS          A. O. Smith             Industrials   \n",
      "2    ABT  Abbott Laboratories             Health Care   \n",
      "3   ABBV               AbbVie             Health Care   \n",
      "4    ACN            Accenture  Information Technology   \n",
      "\n",
      "                GICS Sub-Industry    Headquarters Location  Date added  \\\n",
      "0        Industrial Conglomerates    Saint Paul, Minnesota  1957-03-04   \n",
      "1               Building Products     Milwaukee, Wisconsin  2017-07-26   \n",
      "2           Health Care Equipment  North Chicago, Illinois  1957-03-04   \n",
      "3                   Biotechnology  North Chicago, Illinois  2012-12-31   \n",
      "4  IT Consulting & Other Services          Dublin, Ireland  2011-07-06   \n",
      "\n",
      "       CIK      Founded  \n",
      "0    66740         1902  \n",
      "1    91142         1916  \n",
      "2     1800         1888  \n",
      "3  1551152  2013 (1888)  \n",
      "4  1467373         1989  \n",
      "<class 'pandas.core.frame.DataFrame'>\n",
      "RangeIndex: 503 entries, 0 to 502\n",
      "Data columns (total 8 columns):\n",
      " #   Column                 Non-Null Count  Dtype \n",
      "---  ------                 --------------  ----- \n",
      " 0   Symbol                 503 non-null    object\n",
      " 1   Security               503 non-null    object\n",
      " 2   GICS Sector            503 non-null    object\n",
      " 3   GICS Sub-Industry      503 non-null    object\n",
      " 4   Headquarters Location  503 non-null    object\n",
      " 5   Date added             503 non-null    object\n",
      " 6   CIK                    503 non-null    int64 \n",
      " 7   Founded                503 non-null    object\n",
      "dtypes: int64(1), object(7)\n",
      "memory usage: 31.6+ KB\n",
      "None\n"
     ]
    },
    {
     "name": "stderr",
     "output_type": "stream",
     "text": [
      "C:\\Users\\dhair\\AppData\\Local\\Temp\\ipykernel_45588\\781455577.py:7: FutureWarning: Passing literal html to 'read_html' is deprecated and will be removed in a future version. To read from a literal string, wrap it in a 'StringIO' object.\n",
      "  df_scrape = pd.read_html(str(table))[0]\n"
     ]
    }
   ],
   "source": [
    "# Step 2: Scrape a small table\n",
    "url = \"https://en.wikipedia.org/wiki/List_of_S%26P_500_companies\"\n",
    "response = requests.get(url)\n",
    "soup = BeautifulSoup(response.text, \"html.parser\")\n",
    "table = soup.find(\"table\", {\"id\": \"constituents\"})\n",
    "#parse into DF\n",
    "df_scrape = pd.read_html(str(table))[0]\n",
    "#validate\n",
    "print(df_scrape.head())\n",
    "print (df_scrape.info())"
   ]
  },
  {
   "cell_type": "code",
   "execution_count": 19,
   "id": "32ecdf16-790f-4b69-be85-77c2d71b1980",
   "metadata": {},
   "outputs": [],
   "source": [
    "df_scrape.to_csv(r\"C:\\Users\\dhair\\bootcamp_dhairya_gouchwal\\homework\\homework4\\data\\raw\\scrape.csv\", index = False)"
   ]
  },
  {
   "cell_type": "markdown",
   "id": "cfabcf15-3ea5-43c9-8451-e5ca0f6308c8",
   "metadata": {},
   "source": [
    "# Step 3: Documentation\n",
    "**Sources & URLs**\n",
    "- The API was taken from YahooFinance (yfinance)\n",
    "- Scrape was taken from Wikipedia S&P 500 companies.\n",
    "  \n",
    "\n",
    "**Parameters Used**\n",
    "- For API, tickers used = AAPL and date range.\n",
    "- For Scrape, tickers used to find first table = first table with id constituents\n",
    "\n",
    "\n",
    "**Validation**\n",
    "- Checked .info() and .head()\n",
    "\n",
    "  \n",
    "**Plausible Assumptions & Risks**\n",
    "- Yahoo data is reliable but subject to API limits\n",
    "- Wikipedia can change or changes format anytime\n",
    "\n",
    "*API Key Not used hence there is no .env*"
   ]
  }
 ],
 "metadata": {
  "kernelspec": {
   "display_name": "Python 3 (ipykernel)",
   "language": "python",
   "name": "python3"
  },
  "language_info": {
   "codemirror_mode": {
    "name": "ipython",
    "version": 3
   },
   "file_extension": ".py",
   "mimetype": "text/x-python",
   "name": "python",
   "nbconvert_exporter": "python",
   "pygments_lexer": "ipython3",
   "version": "3.11.13"
  }
 },
 "nbformat": 4,
 "nbformat_minor": 5
}
